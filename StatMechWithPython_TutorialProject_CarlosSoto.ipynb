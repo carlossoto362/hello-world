{
  "nbformat": 4,
  "nbformat_minor": 0,
  "metadata": {
    "colab": {
      "name": "StatMechWithPython_TutorialProject_CarlosSoto.ipynb",
      "provenance": [],
      "authorship_tag": "ABX9TyNdbJp/BEku//OP6vJBEmWG",
      "include_colab_link": true
    },
    "kernelspec": {
      "name": "python3",
      "display_name": "Python 3"
    },
    "language_info": {
      "name": "python"
    }
  },
  "cells": [
    {
      "cell_type": "markdown",
      "metadata": {
        "id": "view-in-github",
        "colab_type": "text"
      },
      "source": [
        "<a href=\"https://colab.research.google.com/github/carlossoto362/hello-world/blob/main/StatMechWithPython_TutorialProject_CarlosSoto.ipynb\" target=\"_parent\"><img src=\"https://colab.research.google.com/assets/colab-badge.svg\" alt=\"Open In Colab\"/></a>"
      ]
    },
    {
      "cell_type": "markdown",
      "metadata": {
        "id": "iKNNM5Y-_9Ip"
      },
      "source": [
        "# **Statistical Mechanics with Python: Tutorial project**\n",
        "*December 2021*\n",
        "\n",
        "*Proyect made by: Carlos Enmanuel Soto Lopez*\n",
        "\n",
        "*carlos.soto362@gmail.com / csoto_lo@ictp.it*\n",
        "\n",
        "\n",
        "## **The 2D Potts model**\n",
        "This is the tutorial project in the Statistical Mechanics with python curse. The 2D Potts model is a two dimentional lattice with $N = L\\times L$ spins, each of them can be in one of *q* diferent colors $s_i=(1,2,\\dots,q)$.\n",
        "\n",
        "The Hamiltonian of this system is,\n",
        "\\begin{equation}\n",
        "H(x) = -\\sum _{(i,j)}J\\delta (s_i,s_j) - \\sum _{i} h \\delta (s_i,1),\n",
        "\\end{equation}\n",
        "where $J$ is the coupling energy constant, $h$ a magnetic field. The sum over $(i,j)$ is the sum over nearest neighbors only, and $i = (i_x,i_y), j = (j_x, j_y) \\in (0,L]\\times (0,L]$ . The $\\delta()$ is the kronecker delta. For this problem I have to use periodic boundary conditions.\n",
        "\n",
        "### **Programing part** ###\n",
        "This is a Metropolis Montecarlo simulator for the 2D Potts model of any number of colors q. \n",
        "\n",
        "- Write a function that takes as arguments a 2D array of $L \\times L$ spins, $\\vec{s} = {s_{1,1},...,s_{L,L}} (s \\in 0,1,...,q )$, the coupling constant $J$, and the\n",
        "magnetic field $h$ and returns the energy of that configuration $\\vec{s}$."
      ]
    },
    {
      "cell_type": "code",
      "metadata": {
        "id": "H4n8rTsTEkxV"
      },
      "source": [
        "#Proyect made by: Carlos Enmanuel Soto Lopez\n",
        "#carlos.soto362@gmail.com / csoto_lo@ictp.it\n",
        "\n",
        "#This proyect is a Metropolis Montecralo simulator for a 2D Potts model of any number of colors q. "
      ],
      "execution_count": null,
      "outputs": []
    }
  ]
}